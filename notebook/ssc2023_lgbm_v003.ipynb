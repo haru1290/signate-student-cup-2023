{
  "cells": [
    {
      "cell_type": "markdown",
      "metadata": {
        "id": "view-in-github",
        "colab_type": "text"
      },
      "source": [
        "<a href=\"https://colab.research.google.com/github/haru1290/signate-student-cup-2023/blob/main/notebook/ssc2023_lgbm_v003.ipynb\" target=\"_parent\"><img src=\"https://colab.research.google.com/assets/colab-badge.svg\" alt=\"Open In Colab\"/></a>"
      ]
    },
    {
      "cell_type": "markdown",
      "metadata": {
        "id": "5ZVYeABVbqcw"
      },
      "source": [
        "# SIGNATE Student Cup 2023【モデリング部門】：中古車の価格予測チャレンジ"
      ]
    },
    {
      "cell_type": "code",
      "execution_count": 1,
      "metadata": {
        "colab": {
          "base_uri": "https://localhost:8080/"
        },
        "id": "iwV5K6NPd-2O",
        "outputId": "a4a69eeb-5744-44f9-abb3-febf15523781"
      },
      "outputs": [
        {
          "output_type": "stream",
          "name": "stdout",
          "text": [
            "Mounted at /content/drive\n"
          ]
        }
      ],
      "source": [
        "from google.colab import drive\n",
        "drive.mount(\"/content/drive\")"
      ]
    },
    {
      "cell_type": "code",
      "execution_count": 2,
      "metadata": {
        "colab": {
          "base_uri": "https://localhost:8080/"
        },
        "id": "nh5k6voRbpNh",
        "outputId": "99dad3cc-4799-48b8-d79c-9236774358e4"
      },
      "outputs": [
        {
          "output_type": "stream",
          "name": "stdout",
          "text": [
            "/content/drive/MyDrive/repos/signate-student-cup-2023\n"
          ]
        }
      ],
      "source": [
        "%cd /content/drive/MyDrive/repos/signate-student-cup-2023/"
      ]
    },
    {
      "cell_type": "markdown",
      "source": [
        "## 1. Downloading Dataset"
      ],
      "metadata": {
        "id": "A-CC0emp9KE_"
      }
    },
    {
      "cell_type": "code",
      "source": [
        "# !pip install signate"
      ],
      "metadata": {
        "id": "EcfgPltO9G1r"
      },
      "execution_count": 3,
      "outputs": []
    },
    {
      "cell_type": "code",
      "source": [
        "# !signate token --email=\"###\" --password=\"###\""
      ],
      "metadata": {
        "id": "BPBixgPL9HfX"
      },
      "execution_count": 4,
      "outputs": []
    },
    {
      "cell_type": "code",
      "source": [
        "# !signate download --competition-id=1051 --path=\"/content/drive/MyDrive/repos/signate-stuent-cup-2023/input\""
      ],
      "metadata": {
        "id": "rYMMzyrU9JUO"
      },
      "execution_count": 5,
      "outputs": []
    },
    {
      "cell_type": "markdown",
      "metadata": {
        "id": "emfUypWRbumE"
      },
      "source": [
        "## 2. Importing Modules"
      ]
    },
    {
      "cell_type": "code",
      "execution_count": 6,
      "metadata": {
        "id": "I6Kl_8icbTX7"
      },
      "outputs": [],
      "source": [
        "from pathlib import Path\n",
        "\n",
        "import lightgbm as lgbm\n",
        "import matplotlib.pyplot as plt\n",
        "import numpy as np\n",
        "import pandas as pd\n",
        "import seaborn as sns\n",
        "from sklearn.base import BaseEstimator, TransformerMixin\n",
        "from sklearn.compose import ColumnTransformer\n",
        "from sklearn.metrics import mean_absolute_percentage_error\n",
        "from sklearn.model_selection import GroupKFold, KFold\n",
        "from sklearn.pipeline import Pipeline"
      ]
    },
    {
      "cell_type": "code",
      "execution_count": 7,
      "metadata": {
        "id": "MWDy6cold6kD"
      },
      "outputs": [],
      "source": [
        "path = Path.cwd()\n",
        "train_df = pd.read_csv(path.joinpath(\"input\", \"train.csv\"))\n",
        "test_df = pd.read_csv(path.joinpath(\"input\", \"test.csv\"))\n",
        "submit_df = pd.read_csv(path.joinpath(\"input\", \"submit_sample.csv\"), names=[\"id\", \"price\"])"
      ]
    },
    {
      "cell_type": "markdown",
      "metadata": {
        "id": "4GGixBm3htIM"
      },
      "source": [
        "## 3. Preprocessing Data"
      ]
    },
    {
      "cell_type": "code",
      "execution_count": 8,
      "metadata": {
        "id": "SdPHYvzJ-mJb"
      },
      "outputs": [],
      "source": [
        "def clean_text(df):\n",
        "    manufacturer_map = {\n",
        "        \"niѕsan\": \"nissan\",\n",
        "        \"nisѕan\": \"nissan\",\n",
        "        \"subαru\": \"subaru\",\n",
        "        \"toyotа\": \"toyota\",\n",
        "        \"sαturn\": \"saturn\",\n",
        "        \"аcura\": \"acura\",\n",
        "        \"vоlkswagen\": \"volkswagen\",\n",
        "        \"lexuѕ\": \"lexus\",\n",
        "        # \"ᴄhrysler\": \"chrysler\",\n",
        "    }\n",
        "    df[\"manufacturer\"] = df[\"manufacturer\"].str.normalize(\"NFKC\").str.lower()\n",
        "    df[\"manufacturer\"] = df[\"manufacturer\"].replace(manufacturer_map)\n",
        "\n",
        "    df[\"size\"] = df[\"size\"].str.replace(\"ー\", \"-\")\n",
        "    df[\"size\"] = df[\"size\"].str.replace(\"−\", \"-\")\n",
        "\n",
        "    return df\n",
        "\n",
        "def encode_categorical_variables(df):\n",
        "    df[\"cylinders\"] = df[\"cylinders\"].str.extract(\"(\\d+)?\")\n",
        "\n",
        "    return df\n",
        "\n",
        "def handle_missing_values(df):\n",
        "    region_state_map = {}\n",
        "    for region, state in df.groupby(\"region\")[\"state\"].apply(np.array).items():\n",
        "        if pd.isna(state).all() == False:\n",
        "            state = state[~pd.isna(state)]\n",
        "            region_state_map[region] = state[0]\n",
        "\n",
        "    region_state_map.update(\n",
        "        {\n",
        "            \"ashtabula\": \"oh\",\n",
        "            \"northwest KS\": \"ks\",\n",
        "            \"southern WV\": \"wv\",\n",
        "            \"glens falls\": \"ny\",\n",
        "            \"hanford-corcoran\": \"ca\",\n",
        "        }\n",
        "    )\n",
        "    df[\"state\"] = df[\"region\"].map(region_state_map)\n",
        "\n",
        "    return df\n",
        "\n",
        "def handle_outliers(df):\n",
        "    df[\"year\"] = df[\"year\"].apply(lambda x: x - 1000 if x > 2023 else x)\n",
        "\n",
        "    df[\"odometer\"] = df[\"odometer\"].apply(abs)\n",
        "    df[\"odometer\"] = df[\"odometer\"].apply(lambda x: x // 10 if x > 10e6 else x)\n",
        "\n",
        "    return df"
      ]
    },
    {
      "cell_type": "code",
      "source": [
        "class PreProcessTransformer(TransformerMixin, BaseEstimator):\n",
        "    def __init__(self):\n",
        "        pass\n",
        "\n",
        "    def fit(self, X, y=None):\n",
        "        return self\n",
        "\n",
        "    def transform(self, X):\n",
        "        X_new = X.copy()\n",
        "\n",
        "        # テキストのクリーニング\n",
        "        X_new = clean_text(X_new)\n",
        "\n",
        "        # 数値データの抽出\n",
        "        X_new = encode_categorical_variables(X_new)\n",
        "\n",
        "        # 欠損値の修正\n",
        "        X_new = handle_missing_values(X_new)\n",
        "\n",
        "        # 外れ値処理\n",
        "        X_new = handle_outliers(X_new)\n",
        "\n",
        "        # 年間の平均走行距離\n",
        "        X_new[\"odometer_per_year\"] =  X_new[\"odometer\"] / (2023 - X_new[\"year\"])\n",
        "\n",
        "        return X_new"
      ],
      "metadata": {
        "id": "UhdXXefixILb"
      },
      "execution_count": 9,
      "outputs": []
    },
    {
      "cell_type": "code",
      "execution_count": 10,
      "metadata": {
        "id": "uwmnChL_4glZ"
      },
      "outputs": [],
      "source": [
        "class OriginalTransformer(TransformerMixin, BaseEstimator):\n",
        "    def __init__(self, numerical_cols, categorical_cols):\n",
        "        self.numerical_cols = numerical_cols\n",
        "        self.categorical_cols = categorical_cols\n",
        "\n",
        "    def fit(self, X, y=None):\n",
        "        return self\n",
        "\n",
        "    def transform(self, X):\n",
        "        X_new = X.copy()\n",
        "\n",
        "        # 数値変数\n",
        "        X_new[self.numerical_cols] = X_new[self.numerical_cols].astype(\"float64\")\n",
        "\n",
        "        # カテゴリ変数\n",
        "        X_new[self.categorical_cols] = X_new[self.categorical_cols].astype(\"category\")\n",
        "\n",
        "        return X_new[self.get_feature_names_out()]\n",
        "\n",
        "    def get_feature_names_out(self, input_features=None):\n",
        "        return self.numerical_cols + self.categorical_cols"
      ]
    },
    {
      "cell_type": "code",
      "execution_count": 11,
      "metadata": {
        "id": "04tG0NVv4kr3"
      },
      "outputs": [],
      "source": [
        "class AggTransformer(TransformerMixin, BaseEstimator):\n",
        "    def __init__(self, key, numerical_cals, agg_func: list):\n",
        "        self.key = key\n",
        "        self.numerical_cals = numerical_cals\n",
        "        self.agg_func = agg_func\n",
        "\n",
        "    def fit(self, X, y=None):\n",
        "        self.agg_df = X.groupby(self.key)[self.numerical_cals].agg(self.agg_func)\n",
        "        self.agg_df.columns = [f\"{col}_{func}\" for col, func in self.agg_df.columns.values]\n",
        "        return self\n",
        "\n",
        "    def transform(self, X):\n",
        "        X_new = X.copy()\n",
        "        X_new = pd.merge(X_new, self.agg_df, on=self.key, how=\"left\")\n",
        "        return X_new[self.get_feature_names_out()]\n",
        "\n",
        "    def get_feature_names_out(self, input_features=None):\n",
        "        return self.agg_df.columns.values"
      ]
    },
    {
      "cell_type": "code",
      "execution_count": 12,
      "metadata": {
        "colab": {
          "base_uri": "https://localhost:8080/"
        },
        "id": "TBOiN-cVl2zy",
        "outputId": "f726a706-d91e-471b-acf9-77d905afdbf9"
      },
      "outputs": [
        {
          "output_type": "stream",
          "name": "stdout",
          "text": [
            "[ColumnTransformer] ........... (1 of 2) Processing ori, total=   0.1s\n",
            "[ColumnTransformer] ..... (2 of 2) Processing agg_state, total=   0.0s\n"
          ]
        }
      ],
      "source": [
        "numerical_cols = [\"year\", \"odometer\", \"odometer_per_year\"]\n",
        "categorical_cols = [\n",
        "    # \"region\",\n",
        "    \"manufacturer\",\n",
        "    \"condition\",\n",
        "    \"cylinders\",\n",
        "    \"fuel\",\n",
        "    \"title_status\",\n",
        "    \"transmission\",\n",
        "    \"drive\",\n",
        "    \"size\",\n",
        "    \"type\",\n",
        "    \"paint_color\",\n",
        "    # \"state\",\n",
        "]\n",
        "\n",
        "ct = ColumnTransformer(\n",
        "    [\n",
        "        (\n",
        "            \"ori\",\n",
        "            OriginalTransformer(numerical_cols, categorical_cols),\n",
        "            numerical_cols + categorical_cols,\n",
        "         ),\n",
        "        *[\n",
        "            (f\"agg_{key}\", AggTransformer(key, [\"odometer\"], [\"mean\"]), [key] + [\"odometer\"])\n",
        "            for key in [\n",
        "                \"state\",\n",
        "            ]\n",
        "        ],\n",
        "    ],\n",
        "    verbose=True,\n",
        ")\n",
        "ct.set_output(transform=\"pandas\")\n",
        "pipe = Pipeline(\n",
        "    [\n",
        "        (\"preprocess\", PreProcessTransformer()),\n",
        "        (\"ct\", ct),\n",
        "    ]\n",
        ")\n",
        "X_train = pipe.fit_transform(train_df, train_df[\"price\"])\n",
        "X_test = pipe.transform(test_df)"
      ]
    },
    {
      "cell_type": "markdown",
      "metadata": {
        "id": "iHYZE_Nd-sWk"
      },
      "source": [
        "## 4. Stacking LighGBM"
      ]
    },
    {
      "cell_type": "code",
      "execution_count": 13,
      "metadata": {
        "id": "n7s1_AUX7Vtu"
      },
      "outputs": [],
      "source": [
        "def get_cv1(df, n_splits: int = 5, random_state: int = 42):\n",
        "    kf = GroupKFold(n_splits=n_splits)\n",
        "    return list(kf.split(df, train_df[\"price\"], handle_missing_values(train_df)[\"state\"]))\n",
        "\n",
        "def get_cv2(df, n_splits: int = 5, random_state: int = 42):\n",
        "    kf = KFold(n_splits=n_splits, shuffle=True, random_state=random_state)\n",
        "    return list(kf.split(df))\n",
        "\n",
        "def fit_lgbm(X, y, cv, categorical_cols: list = None, params: dict = None, verbose: bool = False):\n",
        "    if params is None:\n",
        "        params = {}\n",
        "\n",
        "    models = []\n",
        "    n_records = len(X)\n",
        "    oof_pred = np.zeros((n_records,), dtype=np.float32)\n",
        "\n",
        "    for i, (idx_tr, idx_va) in enumerate(cv):\n",
        "        X_tr, X_va = X.iloc[idx_tr], X.iloc[idx_va]\n",
        "        y_tr, y_va = y.iloc[idx_tr], y.iloc[idx_va]\n",
        "\n",
        "        model = lgbm.LGBMRegressor(**params)\n",
        "        model.fit(\n",
        "            X_tr, y_tr,\n",
        "            eval_set=[(X_va, y_va)],\n",
        "            callbacks=[lgbm.early_stopping(100, verbose=verbose)],\n",
        "            categorical_feature=categorical_cols,\n",
        "        )\n",
        "\n",
        "        va_pred = model.predict(X_va)\n",
        "        oof_pred[idx_va] = va_pred\n",
        "        models.append(model)\n",
        "        score = mean_absolute_percentage_error(y_va, va_pred)\n",
        "        print(f\" - fold{i + 1} - {score * 100:.7f}\")\n",
        "\n",
        "    score = mean_absolute_percentage_error(y, oof_pred)\n",
        "\n",
        "    print(\"=\" * 50)\n",
        "    print(f\"FINISHI: Whole Score: {score * 100:.7f}\")\n",
        "    return score, oof_pred, models"
      ]
    },
    {
      "cell_type": "code",
      "execution_count": 14,
      "metadata": {
        "colab": {
          "base_uri": "https://localhost:8080/"
        },
        "id": "DiROtYMl_Qqs",
        "outputId": "60a3914b-36b3-44ce-a224-7b59b05cec63"
      },
      "outputs": [
        {
          "output_type": "stream",
          "name": "stdout",
          "text": [
            " - fold1 - 44.0613329\n",
            " - fold2 - 43.8084784\n",
            " - fold3 - 44.8892685\n",
            " - fold4 - 43.7466132\n",
            " - fold5 - 44.5615231\n",
            "==================================================\n",
            "FINISHI: Whole Score: 44.2134789\n"
          ]
        }
      ],
      "source": [
        "lgb_params = {\n",
        "    \"objective\": \"mape\",\n",
        "    \"learning_rate\": 0.01,\n",
        "    \"n_estimators\": 10000,\n",
        "    \"max_depth\": 5,\n",
        "    \"min_child_weight\": 0.2079071475866748,\n",
        "    \"subsample\": 0.7,\n",
        "    \"colsample_bytree\": 0.6,\n",
        "    \"reg_alpha\": 0.00034599581038902334,\n",
        "    \"reg_lambda\": 1.6372456235266806,\n",
        "    \"random_state\": 42,\n",
        "    \"importance_type\": \"gain\",\n",
        "    \"verbose\": -1,\n",
        "}\n",
        "\n",
        "cv = get_cv1(X_train, n_splits=5, random_state=42)\n",
        "\n",
        "score_1a, oof_1a, models_1a = fit_lgbm(\n",
        "    X_train,\n",
        "    y=train_df[\"price\"],\n",
        "    cv=cv,\n",
        "    categorical_cols=[\"ori__\" + col for col in categorical_cols],\n",
        "    params=lgb_params,\n",
        ")"
      ]
    },
    {
      "cell_type": "code",
      "execution_count": 15,
      "metadata": {
        "colab": {
          "base_uri": "https://localhost:8080/"
        },
        "id": "kdNCB6BjAE2O",
        "outputId": "b6187a02-75d3-4d47-c274-ebd8363cbae5"
      },
      "outputs": [
        {
          "output_type": "stream",
          "name": "stdout",
          "text": [
            " - fold1 - 63.7308322\n",
            " - fold2 - 62.4522155\n",
            " - fold3 - 70.1754556\n",
            " - fold4 - 67.6887102\n",
            " - fold5 - 65.2147402\n",
            "==================================================\n",
            "FINISHI: Whole Score: 65.8499889\n"
          ]
        }
      ],
      "source": [
        "lgb_params = {\n",
        "    \"objective\": \"regression\",\n",
        "    \"learning_rate\": 0.01,\n",
        "    \"n_estimators\": 10000,\n",
        "    \"max_depth\": 5,\n",
        "    \"min_child_weight\": 0.2079071475866748,\n",
        "    \"subsample\": 0.7,\n",
        "    \"colsample_bytree\": 0.6,\n",
        "    \"reg_alpha\": 0.00034599581038902334,\n",
        "    \"reg_lambda\": 1.6372456235266806,\n",
        "    \"random_state\": 42,\n",
        "    \"importance_type\": \"gain\",\n",
        "    \"verbose\": -1,\n",
        "}\n",
        "\n",
        "cv = get_cv1(X_train, n_splits=5, random_state=42)\n",
        "\n",
        "score_1b, oof_1b, models_1b = fit_lgbm(\n",
        "    X_train,\n",
        "    y=train_df[\"price\"],\n",
        "    cv=cv,\n",
        "    categorical_cols=[\"ori__\" + col for col in categorical_cols],\n",
        "    params=lgb_params,\n",
        ")"
      ]
    },
    {
      "cell_type": "code",
      "execution_count": 16,
      "metadata": {
        "colab": {
          "base_uri": "https://localhost:8080/"
        },
        "id": "UMUeF4SDAsk8",
        "outputId": "44e60d8e-aa8a-41e9-b667-3b4365714a89"
      },
      "outputs": [
        {
          "output_type": "stream",
          "name": "stdout",
          "text": [
            " - fold1 - 52.8732389\n",
            " - fold2 - 51.6462978\n",
            " - fold3 - 56.0851520\n",
            " - fold4 - 55.0519864\n",
            " - fold5 - 53.4766152\n",
            "==================================================\n",
            "FINISHI: Whole Score: 53.8252520\n"
          ]
        }
      ],
      "source": [
        "lgb_params = {\n",
        "    \"objective\": \"regression_l1\",\n",
        "    \"learning_rate\": 0.01,\n",
        "    \"n_estimators\": 10000,\n",
        "    \"max_depth\": 5,\n",
        "    \"min_child_weight\": 0.2079071475866748,\n",
        "    \"subsample\": 0.7,\n",
        "    \"colsample_bytree\": 0.6,\n",
        "    \"reg_alpha\": 0.00034599581038902334,\n",
        "    \"reg_lambda\": 1.6372456235266806,\n",
        "    \"random_state\": 42,\n",
        "    \"importance_type\": \"gain\",\n",
        "    \"verbose\": -1,\n",
        "}\n",
        "\n",
        "cv = get_cv1(X_train, n_splits=5, random_state=42)\n",
        "\n",
        "score_1c, oof_1c, models_1c = fit_lgbm(\n",
        "    X_train,\n",
        "    y=train_df[\"price\"],\n",
        "    cv=cv,\n",
        "    categorical_cols=[\"ori__\" + col for col in categorical_cols],\n",
        "    params=lgb_params,\n",
        ")"
      ]
    },
    {
      "cell_type": "code",
      "execution_count": 17,
      "metadata": {
        "colab": {
          "base_uri": "https://localhost:8080/"
        },
        "id": "qgphhTfuAQ9k",
        "outputId": "08facbd1-3d7c-48f6-8b17-e40ae9f64a0b"
      },
      "outputs": [
        {
          "output_type": "stream",
          "name": "stdout",
          "text": [
            " - fold1 - 63.7000085\n",
            " - fold2 - 62.4130860\n",
            " - fold3 - 68.9666060\n",
            " - fold4 - 67.6356588\n",
            " - fold5 - 65.3909090\n",
            "==================================================\n",
            "FINISHI: Whole Score: 65.6192032\n"
          ]
        }
      ],
      "source": [
        "lgb_params = {\n",
        "    \"objective\": \"poisson\",\n",
        "    \"learning_rate\": 0.01,\n",
        "    \"n_estimators\": 10000,\n",
        "    \"max_depth\": 5,\n",
        "    \"min_child_weight\": 0.2079071475866748,\n",
        "    \"subsample\": 0.7,\n",
        "    \"colsample_bytree\": 0.6,\n",
        "    \"reg_alpha\": 0.00034599581038902334,\n",
        "    \"reg_lambda\": 1.6372456235266806,\n",
        "    \"random_state\": 42,\n",
        "    \"importance_type\": \"gain\",\n",
        "    \"verbose\": -1,\n",
        "}\n",
        "\n",
        "cv = get_cv1(X_train, n_splits=5, random_state=42)\n",
        "\n",
        "score_1d, oof_1d, models_1d = fit_lgbm(\n",
        "    X_train,\n",
        "    y=train_df[\"price\"],\n",
        "    cv=cv,\n",
        "    categorical_cols=[\"ori__\" + col for col in categorical_cols],\n",
        "    params=lgb_params,\n",
        ")"
      ]
    },
    {
      "cell_type": "code",
      "execution_count": 18,
      "metadata": {
        "id": "dpgvqVzGBAxu"
      },
      "outputs": [],
      "source": [
        "X_train_1 = pd.DataFrame()\n",
        "X_test_1 = pd.DataFrame()\n",
        "for k, (oof_v, models_v) in {\n",
        "    \"a\": (oof_1a, models_1a),\n",
        "    \"b\": (oof_1b, models_1b),\n",
        "    \"c\": (oof_1c, models_1c),\n",
        "    \"d\": (oof_1d, models_1d)\n",
        "}.items():\n",
        "    X_train_1[f\"feat_1{k}\"] = oof_v\n",
        "    pred = np.array([model.predict(X_test) for model in models_v])\n",
        "    X_test_1[f\"feat_1{k}\"] = np.mean(pred, axis=0)"
      ]
    },
    {
      "cell_type": "code",
      "execution_count": 19,
      "metadata": {
        "colab": {
          "base_uri": "https://localhost:8080/"
        },
        "id": "tf5eN4lDApY3",
        "outputId": "3c3e7fda-6cd3-438c-db4e-8172b6a21d97"
      },
      "outputs": [
        {
          "output_type": "stream",
          "name": "stdout",
          "text": [
            " - fold1 - 44.1564846\n",
            " - fold2 - 42.8582590\n",
            " - fold3 - 44.5351595\n",
            " - fold4 - 44.1747926\n",
            " - fold5 - 43.8521585\n",
            "==================================================\n",
            "FINISHI: Whole Score: 43.9153412\n",
            " - fold1 - 44.7382229\n",
            " - fold2 - 44.1338665\n",
            " - fold3 - 43.0638098\n",
            " - fold4 - 44.0734828\n",
            " - fold5 - 43.6380303\n",
            "==================================================\n",
            "FINISHI: Whole Score: 43.9295193\n",
            " - fold1 - 44.0746573\n",
            " - fold2 - 43.9894915\n",
            " - fold3 - 43.1696651\n",
            " - fold4 - 44.5381519\n",
            " - fold5 - 43.8229351\n",
            "==================================================\n",
            "FINISHI: Whole Score: 43.9189884\n",
            " - fold1 - 43.4064665\n",
            " - fold2 - 43.9291135\n",
            " - fold3 - 43.9951347\n",
            " - fold4 - 44.1083763\n",
            " - fold5 - 44.2029698\n",
            "==================================================\n",
            "FINISHI: Whole Score: 43.9283932\n",
            " - fold1 - 43.6220329\n",
            " - fold2 - 43.8665863\n",
            " - fold3 - 43.8948699\n",
            " - fold4 - 44.0320847\n",
            " - fold5 - 44.0961677\n",
            "==================================================\n",
            "FINISHI: Whole Score: 43.9023368\n"
          ]
        }
      ],
      "source": [
        "ensemble_oof = []\n",
        "ensemble_models = []\n",
        "for i in range(5):\n",
        "    lgb_params = {\n",
        "        \"objective\": \"mape\",\n",
        "        \"learning_rate\": 0.01,\n",
        "        \"n_estimators\": 10000,\n",
        "        \"max_depth\": 3,\n",
        "        \"min_child_weight\": 0.2837885619235051,\n",
        "        \"subsample\": 0.9,\n",
        "        \"colsample_bytree\": 0.75,\n",
        "        \"reg_alpha\": 0.0013207396755076433,\n",
        "        \"reg_lambda\": 0.015242312409459731,\n",
        "        \"random_state\": 42 + i,\n",
        "        \"importance_type\": \"gain\",\n",
        "        \"verbose\": -1,\n",
        "    }\n",
        "\n",
        "    cv = get_cv2(X_train_1, n_splits=5, random_state=42 + i)\n",
        "\n",
        "    score, oof, models = fit_lgbm(\n",
        "        X_train_1,\n",
        "        y=train_df[\"price\"],\n",
        "        cv=cv,\n",
        "        categorical_cols=[],\n",
        "        params=lgb_params,\n",
        "    )\n",
        "    ensemble_oof.append(oof)\n",
        "    ensemble_models += models"
      ]
    },
    {
      "cell_type": "code",
      "execution_count": 20,
      "metadata": {
        "colab": {
          "base_uri": "https://localhost:8080/"
        },
        "id": "SCc-ZTHFDTid",
        "outputId": "360917f5-088c-478c-8373-7324b718aae5"
      },
      "outputs": [
        {
          "output_type": "stream",
          "name": "stdout",
          "text": [
            " - ENSEMBLE - 43.8865603\n"
          ]
        }
      ],
      "source": [
        "# evaluation\n",
        "score = mean_absolute_percentage_error(train_df[\"price\"], np.mean(ensemble_oof, axis=0))\n",
        "print(f\" - ENSEMBLE - {score * 100:.7f}\")"
      ]
    },
    {
      "cell_type": "code",
      "execution_count": 21,
      "metadata": {
        "id": "JYJY6OMFDZhF"
      },
      "outputs": [],
      "source": [
        "# inference\n",
        "pred = np.array([model.predict(X_test_1) for model in ensemble_models])\n",
        "pred = np.mean(pred, axis=0)"
      ]
    },
    {
      "cell_type": "code",
      "execution_count": 22,
      "metadata": {
        "id": "A_bYUpq8Db9u"
      },
      "outputs": [],
      "source": [
        "# submission\n",
        "submit_df[\"price\"] = pred\n",
        "submit_df.to_csv(path.joinpath(\"submission\", \"final_submission.csv\"), index=False, header=False)"
      ]
    },
    {
      "cell_type": "markdown",
      "metadata": {
        "id": "KsArBRb0HGJV"
      },
      "source": [
        "## 5. Visualizing"
      ]
    },
    {
      "cell_type": "code",
      "execution_count": 23,
      "metadata": {
        "id": "oLCcvGjjGeS2"
      },
      "outputs": [],
      "source": [
        "def visualize_importance(models, train_feat_df):\n",
        "    feature_importance_df = pd.DataFrame()\n",
        "    for i, model in enumerate(models):\n",
        "        _df = pd.DataFrame()\n",
        "        _df[\"feature_importance\"] = model.feature_importances_\n",
        "        _df[\"column\"] = train_feat_df.columns\n",
        "        _df[\"forld\"] = i + 1\n",
        "        feature_importance_df = pd.concat([feature_importance_df, _df], ignore_index=True)\n",
        "\n",
        "    order = (\n",
        "        feature_importance_df.groupby(\"column\")\n",
        "        .sum()[[\"feature_importance\"]]\n",
        "        .sort_values(\"feature_importance\", ascending=False)\n",
        "        .index[:50]\n",
        "    )\n",
        "\n",
        "    fig, ax = plt.subplots(figsize=(12, max(6, len(order) * 0.25)))\n",
        "    sns.boxenplot(\n",
        "        feature_importance_df,\n",
        "        x=\"feature_importance\",\n",
        "        y=\"column\",\n",
        "        order=order,\n",
        "        orient=\"h\",\n",
        "        palette=\"viridis\",\n",
        "        ax=ax,\n",
        "    )\n",
        "    ax.tick_params(axis=\"x\", rotation=90)\n",
        "    ax.set_title(\"Importance\")\n",
        "    ax.grid()\n",
        "    fig.tight_layout()\n",
        "    return fig, ax\n",
        "\n",
        "def visualize_oof_gt(oof, gt):\n",
        "    fig, ax = plt.subplots(figsize=(8, 6))\n",
        "    ax.scatter(oof, gt, alpha=0.5)\n",
        "    gt_max = gt.max()\n",
        "    ax.plot(np.arange(0, gt_max), np.arange(0, gt_max), color=\"red\", alpha=0.5, linestyle=\"--\")\n",
        "    ax.set_xlabel(\"Out Of Fold\")\n",
        "    ax.set_ylabel(\"Ground Truth\")\n",
        "    ax.grid()\n",
        "    ax.legend()\n",
        "    fig.tight_layout()\n",
        "\n",
        "def visualize_oof_pred(oof, pred):\n",
        "    fig, ax = plt.subplots(figsize=(8, 6))\n",
        "    bins = 100\n",
        "    ax.hist(pred, bins=bins, density=True, alpha=0.5, label=\"Test\")\n",
        "    ax.hist(oof, bins=bins, density=True, alpha=0.5, label=\"OutOfFold\")\n",
        "    ax.grid()\n",
        "    ax.legend()\n",
        "    fig.tight_layout()"
      ]
    },
    {
      "cell_type": "code",
      "execution_count": 24,
      "metadata": {
        "colab": {
          "base_uri": "https://localhost:8080/",
          "height": 642
        },
        "id": "DWYrE6lpGfBP",
        "outputId": "d5431ca7-147f-4574-a8c2-73a06d4f78c1"
      },
      "outputs": [
        {
          "output_type": "execute_result",
          "data": {
            "text/plain": [
              "(<Figure size 1200x600 with 1 Axes>,\n",
              " <Axes: title={'center': 'Importance'}, xlabel='feature_importance', ylabel='column'>)"
            ]
          },
          "metadata": {},
          "execution_count": 24
        },
        {
          "output_type": "display_data",
          "data": {
            "text/plain": [
              "<Figure size 1200x600 with 1 Axes>"
            ],
            "image/png": "[encoded data removed]"
          },
          "metadata": {}
        }
      ],
      "source": [
        "visualize_importance(ensemble_models, X_train_1)"
      ]
    },
    {
      "cell_type": "code",
      "execution_count": 25,
      "metadata": {
        "colab": {
          "base_uri": "https://localhost:8080/",
          "height": 624
        },
        "id": "qeoN6QdIGiSh",
        "outputId": "faa28646-43b6-4a9e-cb64-b802caaa0a6b"
      },
      "outputs": [
        {
          "output_type": "stream",
          "name": "stderr",
          "text": [
            "WARNING:matplotlib.legend:No artists with labels found to put in legend.  Note that artists whose label start with an underscore are ignored when legend() is called with no argument.\n"
          ]
        },
        {
          "output_type": "display_data",
          "data": {
            "text/plain": [
              "<Figure size 800x600 with 1 Axes>"
            ],
            "image/png": "[encoded data removed]"
          },
          "metadata": {}
        }
      ],
      "source": [
        "visualize_oof_gt(np.mean(ensemble_oof, axis=0), train_df[\"price\"])"
      ]
    },
    {
      "cell_type": "code",
      "execution_count": 26,
      "metadata": {
        "colab": {
          "base_uri": "https://localhost:8080/",
          "height": 607
        },
        "id": "KkJND9ZvGj7R",
        "outputId": "bc6e9f73-fe7b-49d2-fcee-7913331111df"
      },
      "outputs": [
        {
          "output_type": "display_data",
          "data": {
            "text/plain": [
              "<Figure size 800x600 with 1 Axes>"
            ],
            "image/png": "[encoded data removed]"
          },
          "metadata": {}
        }
      ],
      "source": [
        "visualize_oof_pred(np.mean(ensemble_oof, axis=0), pred)"
      ]
    }
  ],
  "metadata": {
    "colab": {
      "provenance": [],
      "authorship_tag": "ABX9TyOld1iGK8uOEjgQyC8GojAT",
      "include_colab_link": true
    },
    "kernelspec": {
      "display_name": "Python 3",
      "name": "python3"
    },
    "language_info": {
      "name": "python"
    }
  },
  "nbformat": 4,
  "nbformat_minor": 0
}